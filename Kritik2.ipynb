{
  "nbformat": 4,
  "nbformat_minor": 0,
  "metadata": {
    "colab": {
      "provenance": []
    },
    "kernelspec": {
      "name": "python3",
      "display_name": "Python 3"
    },
    "language_info": {
      "name": "python"
    }
  },
  "cells": [
    {
      "cell_type": "code",
      "source": [
        "import numpy as np ##code from the assignment\n",
        "def funny(x):\n",
        " if x<=-1:\n",
        "     return 0\n",
        " elif x>=1 :\n",
        "    return 0\n",
        " else:\n",
        "     return np.exp(1-(1/(1-x**(10**250))))\n",
        "\n",
        "##check the left and right hand limits of x = +/- 1\n",
        "\n",
        "print(\"\") #formatting\n",
        "\n",
        "##for x = +1, check left hand limit i.e., the lower boundary.\n",
        "print(\"funny(0.99)\" , funny(0.99)) #effectivley the left hand limit\n",
        "print(\"funny(1.00) =\" , funny(1.00))\n",
        "print(\"funny(1.01) =\" , funny(1.01)) #effectivley the right hand limit\n",
        "\n",
        "if funny(0.99) == funny(1.01) :\n",
        "    print(\"Analysis: funny(x)is continous at funny(1)\") #implies that the left hand limit equals the right hand limit.\n",
        "\n",
        "else :\n",
        "    print(\"Analysis: funny(x)is not continous at funny(1)\") #implies that the left hand limit does not equal the right hand limit. Remark: to disprove continuity, only one non-example is required.\n",
        "\n",
        "print(\"\") #formatting\n",
        "\n",
        "##for x = -1, check left and right hand limits.\n",
        "print(\"funny(-1.01) =\" , funny(-1.01)) #effectivley the left hand limit\n",
        "print(\"funny(-1) =\" , funny(-1))\n",
        "print(\"funny(-0.99)\" , funny(-0.99)) #effectivley the right hand limit\n",
        "\n",
        "if funny(-1.01) == funny(-0.99) :\n",
        "    print(\"Analysis: funny(x)is continous at funny(-1)\") #implies that the left hand limit equals the right hand limit.\n",
        "\n",
        "else :\n",
        "    print(\"Analysis: funny(x)is not continous at funny(-1)\") #implies that the left hand limit does not equal the right hand limit. Remark: to disprove continuity, only one non-example is required."
      ],
      "metadata": {
        "colab": {
          "base_uri": "https://localhost:8080/"
        },
        "id": "HIlK4-6hNiOz",
        "outputId": "211f4c11-1ae8-4c1b-8644-70e1b32ad280"
      },
      "execution_count": 7,
      "outputs": [
        {
          "output_type": "stream",
          "name": "stdout",
          "text": [
            "\n",
            "funny(0.99) 1.0\n",
            "funny(1.00) = 0\n",
            "funny(1.01) = 0\n",
            "Analysis: funny(x)is not continous at funny(1)\n",
            "\n",
            "funny(-1.01) = 0\n",
            "funny(-1) = 0\n",
            "funny(-0.99) 1.0\n",
            "Analysis: funny(x)is not continous at funny(-1)\n"
          ]
        }
      ]
    },
    {
      "cell_type": "code",
      "source": [
        "def funny_b(x):\n",
        " if x<=-1:\n",
        "     return 0\n",
        " elif x>=1 :\n",
        "    return 0\n",
        " else:\n",
        "     return (-1/(1-x**(10**250))) ## insert the new function as stated in the questions description\n",
        "\n",
        "print(\"funny_b(0.99) =\" , funny_b(0.99)) ##evalute the limit as x approaches 1 from the left\n",
        "\n",
        "##therfore statemet\n",
        "print(\"Therfore, the limit as x approaches 1.0 from the left equals\" , funny_b(0.99))"
      ],
      "metadata": {
        "colab": {
          "base_uri": "https://localhost:8080/"
        },
        "id": "ADvbkgHyNod4",
        "outputId": "9764db4c-14d4-4311-af1c-b941502e6cc7"
      },
      "execution_count": 8,
      "outputs": [
        {
          "output_type": "stream",
          "name": "stdout",
          "text": [
            "funny_b(0.99) = -1.0\n",
            "Therfore, the limit as x approaches 1.0 from the left equals -1.0\n"
          ]
        }
      ]
    },
    {
      "cell_type": "code",
      "source": [
        "import numpy as np\n",
        "\n",
        "def f(x) :\n",
        "  return np.exp(x) + np.log(x) #defining the fucntion that we want the root(s) of as per the question\n",
        "\n",
        "def bisection(a,b, tol): #defining bisection method, a and b are the x values in some nbhd c, with a tolerance (by what factor the algorithm can be wrong)\n",
        "  xl = a ##changing variables\n",
        "  xr = b ##changing variables\n",
        "  while (np.abs(xl-xr)>=tol): #using a loop\n",
        "    c = (xl+xr)/2.0 #defining c\n",
        "    prod = f(xl)*f(c) #prod = product.\n",
        "    if prod > tol: #then, there are no roots\n",
        "      xl = c\n",
        "    else :\n",
        "      if prod < tol: #then, there is a root(s)\n",
        "        xr = c\n",
        "  return c\n",
        "answer = bisection(0, 1, 1e-6) #tolerance was choosen arbitarily, such that the result is relativley accurate\n",
        "print(\"bisection method gives root at x =\", \"%.10f\"% answer) #used to report the answer to 10 decimal places, as specified in the question\n",
        "np.seterr(divide = 'ignore') #used to avoid python \"warning\""
      ],
      "metadata": {
        "colab": {
          "base_uri": "https://localhost:8080/"
        },
        "id": "StOwRUEUNDel",
        "outputId": "e948bc25-2df2-473b-80de-ba8bffe5ba6d"
      },
      "execution_count": 2,
      "outputs": [
        {
          "output_type": "stream",
          "name": "stdout",
          "text": [
            "bisection method gives root at x = 0.2696847916\n"
          ]
        },
        {
          "output_type": "stream",
          "name": "stderr",
          "text": [
            "<ipython-input-2-782a426a9262>:4: RuntimeWarning: divide by zero encountered in log\n",
            "  return np.exp(x) + np.log(x) #defining the fucntion that we want the root(s) of as per the question\n"
          ]
        },
        {
          "output_type": "execute_result",
          "data": {
            "text/plain": [
              "{'divide': 'warn', 'over': 'warn', 'under': 'ignore', 'invalid': 'warn'}"
            ]
          },
          "metadata": {},
          "execution_count": 2
        }
      ]
    },
    {
      "cell_type": "code",
      "source": [
        "import numpy as np\n",
        "\n",
        "def f(x) :\n",
        "  return np.arctan(x) - x**2\n",
        "\n",
        "def bisection(a,b, tol):\n",
        "  xl = a\n",
        "  xr = b\n",
        "  while (np.abs(xl-xr)>=tol):\n",
        "    c = (xl+xr)/2.0\n",
        "    prod = f(xl)*f(c)\n",
        "    if prod > tol:\n",
        "      xl = c\n",
        "    else :\n",
        "      if prod < tol:\n",
        "        xr = c\n",
        "  return c\n",
        "answer = bisection(0,2, 1e-6)\n",
        "print(\"bisection method gives root at x =\", \"%.10f\"% answer) #Observe that f(x) is an even function, so it may have more than one root in the specified nbhd"
      ],
      "metadata": {
        "colab": {
          "base_uri": "https://localhost:8080/"
        },
        "id": "UiK4dwgUNENw",
        "outputId": "c3268bd2-dd1a-4055-dde4-fa401f62c5e4"
      },
      "execution_count": 3,
      "outputs": [
        {
          "output_type": "stream",
          "name": "stdout",
          "text": [
            "bisection method gives root at x = 0.0000009537\n"
          ]
        }
      ]
    },
    {
      "cell_type": "code",
      "source": [
        "import numpy as np\n",
        "\n",
        "def f(x) :\n",
        "  return np.arctan(x) - x**2\n",
        "\n",
        "def bisection_2(a,b, tol):\n",
        "  xl = a\n",
        "  xr = b\n",
        "  while (np.abs(xl-xr)>=tol):\n",
        "    c = (xl+xr)/2.0\n",
        "    prod = f(xl)*f(c)\n",
        "    if prod > tol:\n",
        "      xl = c\n",
        "    else :\n",
        "      if prod < tol:\n",
        "        xr = c\n",
        "  return c\n",
        "answer = bisection_2(.5,2, 1e-6)\n",
        "print(\"bisection method gives second root at x =\", \"%.10f\"% answer)"
      ],
      "metadata": {
        "colab": {
          "base_uri": "https://localhost:8080/"
        },
        "id": "lS2sqMqhNHZl",
        "outputId": "6066e421-5e8c-486e-d2e6-ec4e79f9ebf0"
      },
      "execution_count": 4,
      "outputs": [
        {
          "output_type": "stream",
          "name": "stdout",
          "text": [
            "bisection method gives second root at x = 0.8327033520\n"
          ]
        }
      ]
    },
    {
      "cell_type": "code",
      "source": [
        "import numpy as np\n",
        "\n",
        "def f(x) :\n",
        "  return (np.sin(x)/np.log(x))\n",
        "\n",
        "def bisection(a,b, tol):\n",
        "  xl = a\n",
        "  xr = b\n",
        "  while (np.abs(xl-xr)>=tol):\n",
        "    c = (xl+xr)/2.0\n",
        "    prod = f(xl)*f(c)\n",
        "    if prod > tol:\n",
        "      xl = c\n",
        "    else :\n",
        "      if prod < tol:\n",
        "        xr = c\n",
        "  return c\n",
        "answer = bisection(3,4, 1e-6)\n",
        "print(\"bisection method gives root at x =\", \"%.10f\"% answer)\n",
        "np.seterr(divide = 'ignore')"
      ],
      "metadata": {
        "colab": {
          "base_uri": "https://localhost:8080/"
        },
        "id": "YnqnNROtNJnH",
        "outputId": "f902f8e4-0ade-4456-9d2e-0e147c07b981"
      },
      "execution_count": 5,
      "outputs": [
        {
          "output_type": "stream",
          "name": "stdout",
          "text": [
            "bisection method gives root at x = 3.1406259537\n"
          ]
        },
        {
          "output_type": "execute_result",
          "data": {
            "text/plain": [
              "{'divide': 'ignore', 'over': 'warn', 'under': 'ignore', 'invalid': 'warn'}"
            ]
          },
          "metadata": {},
          "execution_count": 5
        }
      ]
    },
    {
      "cell_type": "code",
      "source": [
        "import numpy as np\n",
        "\n",
        "def f(x) :\n",
        "  return np.log(np.cos(x))\n",
        "\n",
        "def bisection(a,b, tol):\n",
        "  xl = a\n",
        "  xr = b\n",
        "  while (np.abs(xl-xr)>=tol):\n",
        "    c = (xl+xr)/2.0\n",
        "    prod = f(xl)*f(c)\n",
        "    if prod > tol:\n",
        "      xl = c\n",
        "    else :\n",
        "      if prod < tol:\n",
        "        xr = c\n",
        "  return c\n",
        "answer = bisection(5,7, 1e-6)\n",
        "print(\"bisection method gives root at x =\", \"%.10f\"% answer)"
      ],
      "metadata": {
        "colab": {
          "base_uri": "https://localhost:8080/"
        },
        "id": "9Jof6Ur2NL0O",
        "outputId": "d5bb1bb1-f341-45a1-dfe3-5c25890121db"
      },
      "execution_count": 6,
      "outputs": [
        {
          "output_type": "stream",
          "name": "stdout",
          "text": [
            "bisection method gives root at x = 6.9999990463\n"
          ]
        }
      ]
    },
    {
      "cell_type": "code",
      "source": [],
      "metadata": {
        "id": "nHGJhlDJNN2T"
      },
      "execution_count": null,
      "outputs": []
    }
  ]
}