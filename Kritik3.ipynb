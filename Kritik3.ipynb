{
  "nbformat": 4,
  "nbformat_minor": 0,
  "metadata": {
    "colab": {
      "provenance": []
    },
    "kernelspec": {
      "name": "python3",
      "display_name": "Python 3"
    },
    "language_info": {
      "name": "python"
    }
  },
  "cells": [
    {
      "cell_type": "code",
      "source": [
        "import numpy as np  # Libraries\n",
        "\n",
        "def Q_3(f, c, E):  # Part A: Define the function with three inputs (the function, the value of c, and the error value)\n",
        "    derive_f = ((f(c + (10**-8))) - (f(c - (10**-8)))) / (2 * (10**-8))  # Part B: Linear approximation using a fixed delta x\n",
        "    g = lambda x: f(c) + (derive_f * (x - c))  # Part C: The definition of L(x)\n",
        "    for i in range(1000):  # For a variable (i) in range of 1000 (arbitrarily selected).\n",
        "        x = (c + (i * 0.01))\n",
        "        if round(abs(g(x) - f(x)), 2) == E:\n",
        "            x2 = x\n",
        "            break  # Stop running the loop\n",
        "    for i in range(1000):  # For a variable (i) in range of 1000 (arbitrarily selected).\n",
        "        x = (c - (i * 0.01))\n",
        "        if round(abs(g(x) - f(x)), 2) == E:\n",
        "            x1 = x\n",
        "            break  # Stop running the loop\n",
        "    try:\n",
        "        return x1, x2  # Write the variables that satisfied the above conditions\n",
        "    except UnboundLocalError:  # Used to avoid warning message\n",
        "        return \"There is no such x1 and x2 within F of c\"  # If the error is encountered, write the text\n",
        "\n",
        "# Test i\n",
        "f = lambda x: x**2\n",
        "print(Q_3(f, 1, 0.1))\n",
        "\n",
        "# Test ii\n",
        "f = lambda x: np.sin(x)\n",
        "print(Q_3(f, np.pi/4, 0.05))\n",
        "\n",
        "# Test iii\n",
        "f = lambda x: np.exp(x)\n",
        "print(Q_3(f, 0, 0.01))\n"
      ],
      "metadata": {
        "colab": {
          "base_uri": "https://localhost:8080/"
        },
        "id": "h2eIrjz3JRJs",
        "outputId": "0c1ab29d-466f-4ed5-ada5-c63235901030"
      },
      "execution_count": 2,
      "outputs": [
        {
          "output_type": "stream",
          "name": "stdout",
          "text": [
            "(0.69, 1.31)\n",
            "(0.39539816339744827, 1.1253981633974484)\n",
            "(-0.11, 0.1)\n"
          ]
        }
      ]
    },
    {
      "cell_type": "code",
      "source": [],
      "metadata": {
        "id": "ESa6T12dJY8D"
      },
      "execution_count": null,
      "outputs": []
    }
  ]
}