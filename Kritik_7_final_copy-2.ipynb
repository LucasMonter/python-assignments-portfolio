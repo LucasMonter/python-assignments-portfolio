{
  "nbformat": 4,
  "nbformat_minor": 0,
  "metadata": {
    "colab": {
      "provenance": []
    },
    "kernelspec": {
      "name": "python3",
      "display_name": "Python 3"
    },
    "language_info": {
      "name": "python"
    }
  },
  "cells": [
    {
      "cell_type": "code",
      "source": [
        "#importing the necessary library as in kritik page 3\n",
        "import numpy as np\n",
        "from scipy.special import gamma\n",
        "def t_distribution_pdf(x, nu):\n",
        "  coeff = gamma((nu + 1) / 2) / (np.sqrt(nu * np.pi) * gamma(nu / 2))\n",
        "  density = coeff * (1 + x**2 / nu) ** (-0.5 * (nu + 1))\n",
        "  return density"
      ],
      "metadata": {
        "id": "5FwCTXD8iwmF"
      },
      "execution_count": null,
      "outputs": []
    },
    {
      "cell_type": "code",
      "source": [
        "#i. Standard arithmetic operatiosn to compute mean and standard deviation\n",
        "def calculate_mean_std(data): # def function\n",
        "    n = len(data) # use len as given in instructions\n",
        "    mean = sum(data) / n\n",
        "    std = (sum((x - mean) ** 2 for x in data) / (n - 1)) ** 0.5\n",
        "    return mean, std\n",
        "\n",
        "data = [92.64, 79.00, 84.79, 97.41, 93.68, 65.23, 84.50, 73.49, 73.97, 79.11] # from kritik\n",
        "mean, stdev = calculate_mean_std(data)# calling the function\n",
        "print(\"Mean:\", mean)\n",
        "print(\"Standard Deviation:\", stdev)"
      ],
      "metadata": {
        "colab": {
          "base_uri": "https://localhost:8080/"
        },
        "id": "g8Um3PlgCcv0",
        "outputId": "4cb57cd3-f6df-415a-a028-b2d13d4824f7"
      },
      "execution_count": null,
      "outputs": [
        {
          "output_type": "stream",
          "name": "stdout",
          "text": [
            "Mean: 82.382\n",
            "Standard Deviation: 10.193467189005581\n"
          ]
        }
      ]
    },
    {
      "cell_type": "code",
      "source": [
        "#ii.\n",
        "def calculate_t_value(mean, std, mu_0, n):#find the value of t_0 using the previosu step's data\n",
        "    t_0 = (mean - mu_0) / (std / (n ** 0.5))\n",
        "    return t_0\n",
        "\n",
        "mu_0 = 75 # the international average which is equal to 75%\n",
        "n = len(data)\n",
        "t_0 = calculate_t_value(mean, stdev, mu_0, n) #calling the function so it can actually be printed below\n",
        "print(\"t_0 value:\", t_0) # output"
      ],
      "metadata": {
        "colab": {
          "base_uri": "https://localhost:8080/"
        },
        "id": "VInzSY6HaeSc",
        "outputId": "942719ae-1dc6-4253-ff90-56149add4175"
      },
      "execution_count": null,
      "outputs": [
        {
          "output_type": "stream",
          "name": "stdout",
          "text": [
            "t_0 value: 2.290087686017293\n"
          ]
        }
      ]
    },
    {
      "cell_type": "code",
      "source": [
        "#iii. finding t*\n",
        "import numpy as np\n",
        "\n",
        "#from the krtitik 7 instructions (page 6)\n",
        "def find_t_star(prob, nu, x_start=0, x_end=20, num_points=10000):\n",
        "    x = np.linspace(x_start, x_end, num_points)\n",
        "    y = t_distribution_pdf(x, nu)\n",
        "    cdf = np.cumsum(y) * (x[1] - x[0])\n",
        "\n",
        "    target_half_prob = prob / 2\n",
        "    index = np.where(cdf >= target_half_prob)[0][0]\n",
        "    return x[index]\n",
        "\n",
        "nu = n - 1  # In statistics, n-1 is used as the degrees of freedom\n",
        "certainty = 0.95 # from instructions\n",
        "t_star = find_t_star(certainty, nu) # takes is n-1 and 0.95 from the steps above\n",
        "print(\"the value of t* is:\", t_star) # output statement"
      ],
      "metadata": {
        "colab": {
          "base_uri": "https://localhost:8080/"
        },
        "id": "HZKnOoUaCi0q",
        "outputId": "da5f0b8c-e491-42cf-fadb-088f0d2be7e4"
      },
      "execution_count": null,
      "outputs": [
        {
          "output_type": "stream",
          "name": "stdout",
          "text": [
            "the value of t* is: 2.2522252225222523\n"
          ]
        }
      ]
    },
    {
      "cell_type": "code",
      "source": [
        "#iv checking if t_0 is in [-t*, t*]\n",
        "def check(t_0, t_star):\n",
        "    return -t_star <= t_0 <= t_star # set up an inequality\n",
        "\n",
        "is_null_hypothesis_accepted = check(t_0, t_star)\n",
        "print(\"Is t0 in [-t*, t*]?\", is_null_hypothesis_accepted)"
      ],
      "metadata": {
        "colab": {
          "base_uri": "https://localhost:8080/"
        },
        "id": "wZ4_bI_Cg6M7",
        "outputId": "98e06b27-706a-4b03-fa4e-879bbf878b88"
      },
      "execution_count": null,
      "outputs": [
        {
          "output_type": "stream",
          "name": "stdout",
          "text": [
            "Is t0 in [-t*, t*]? False\n"
          ]
        }
      ]
    },
    {
      "cell_type": "code",
      "source": [
        "#v final check\n",
        "mean, std = calculate_mean_std(data)\n",
        "t_0 = calculate_t_value(mean, std, mu_0, n)\n",
        "t_star = find_t_star(0.95, n - 1)\n",
        "is_null_hypothesis_accepted = check(t_0, t_star)\n",
        "\n",
        "# Conclusion using an if/else loop\n",
        "if is_null_hypothesis_accepted:\n",
        "    print(\"the null hypothesis was accepted. There is no significant difference.\")\n",
        "else:\n",
        "    print(\"the null hypothesis was rejected. There is a significant difference.\")\n",
        "    print(\"Therfore, there is not neough evidence to make a statistical claim regarding if the new teaching method is detrimental or benificial to students scores.\") # i just put my answer to (vi) here afetr iterating through previously."
      ],
      "metadata": {
        "colab": {
          "base_uri": "https://localhost:8080/"
        },
        "id": "YV9MzU0dhN9h",
        "outputId": "ed8b31dd-b8a5-4672-9c92-1d0041ba5b2a"
      },
      "execution_count": null,
      "outputs": [
        {
          "output_type": "stream",
          "name": "stdout",
          "text": [
            "the null hypothesis was rejected. There is a significant difference.\n",
            "Therfore, there is not neough evidence to make a statistical claim regarding if the new teaching method is detrimental or benificial to students scores.\n"
          ]
        }
      ]
    }
  ]
}