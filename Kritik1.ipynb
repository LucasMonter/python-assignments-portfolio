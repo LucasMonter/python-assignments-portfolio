{
  "nbformat": 4,
  "nbformat_minor": 0,
  "metadata": {
    "colab": {
      "provenance": []
    },
    "kernelspec": {
      "name": "python3",
      "display_name": "Python 3"
    },
    "language_info": {
      "name": "python"
    }
  },
  "cells": [
    {
      "cell_type": "code",
      "source": [
        "def pythonla24(x):  # define the function\n",
        "    trial_n = True  # use boolean\n",
        "    n = 1  # the degree or the approximation.\n",
        "    # = represents the approximation\n",
        "    if x < 0 or x > 1:  # use restrictions from the question\n",
        "        trial_n = False  # if x is not in the domain, then return \"Error!\"\n",
        "        print(\"Error!\")\n",
        "\n",
        "    while trial_n == True:  # \"while\" used to run the loop a finite number of times if x is in the domain [0,1].\n",
        "        # '==' asks a question for the program to run\n",
        "        for i in range(n):  # used to determine the minimum number of iterations used to achieve the output such that the error is acceptable as per the question\n",
        "            a = (((-1) ** i) * (x ** (2 * i + 1))) / (2 * i + 1)  # equations from the assignment\n",
        "            error_bound = x ** (2 * n + 1) / (2 * n + 1)\n",
        "            if error_bound <= 0.0001 and a == x:  # error maximum given in the question\n",
        "                print(a, n, \",\", error_bound)  # return a tuple when given an x value if x is [0,1]\n",
        "                trial_n = False\n",
        "            elif error_bound > 0.0001:  # elif should be used instead of else, since else returns larger error bound values, and requires more iterations (n).\n",
        "                n += 1  # ensures that next time the loop is run, each iteration is properly accounted for i.e., n+1 is the same as n=n+1\n",
        "\n",
        "# return the values for the x values -1, 0, 0.25, 0.5, 0.75,\n",
        "pythonla24(-1)  # using x = -1 etc. as per the question\n",
        "pythonla24(0)\n",
        "pythonla24(0.25)\n",
        "pythonla24(0.5)\n",
        "pythonla24(0.75)\n",
        "pythonla24(1)\n"
      ],
      "metadata": {
        "colab": {
          "base_uri": "https://localhost:8080/"
        },
        "id": "D1lt7Q5xKnxv",
        "outputId": "3386a520-d381-423d-9c3b-b455ce2f8165"
      },
      "execution_count": 1,
      "outputs": [
        {
          "output_type": "stream",
          "name": "stdout",
          "text": [
            "Error!\n",
            "0.0 1 , 0.0\n",
            "0.25 3 , 8.719308035714285e-06\n",
            "0.5 5 , 4.438920454545455e-05\n",
            "0.75 11 , 5.816761029294689e-05\n",
            "1.0 5000 , 9.999000099990002e-05\n"
          ]
        }
      ]
    },
    {
      "cell_type": "code",
      "source": [],
      "metadata": {
        "id": "Ud7jziGKKoLh"
      },
      "execution_count": null,
      "outputs": []
    }
  ]
}